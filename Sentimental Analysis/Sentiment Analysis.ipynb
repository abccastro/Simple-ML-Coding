{
 "cells": [
  {
   "attachments": {},
   "cell_type": "markdown",
   "metadata": {},
   "source": [
    "### Basic Sentiment Analysis\n",
    "\n",
    "An application that derives the sentiment score of a given sentence or paragraph using the Python library, NLTK.\n",
    "\n",
    "__Submitted By:__ Auradee Castro"
   ]
  },
  {
   "cell_type": "code",
   "execution_count": 3,
   "metadata": {},
   "outputs": [],
   "source": [
    "import pandas as pd\n",
    "import contractions\n",
    "\n",
    "from nltk.tokenize import sent_tokenize, word_tokenize\n",
    "from nltk.tokenize import RegexpTokenizer\n",
    "from nltk.sentiment.vader import SentimentIntensityAnalyzer\n",
    "from nltk.stem import WordNetLemmatizer\n",
    "from nltk.corpus import stopwords"
   ]
  },
  {
   "cell_type": "code",
   "execution_count": 6,
   "metadata": {},
   "outputs": [
    {
     "name": "stdout",
     "output_type": "stream",
     "text": [
      "                                              Review      Type\n",
      "0  This is an excellent car with great mileage. b...  Positive\n",
      "1  I don't think there is anything I really disli...   Neutral\n",
      "2              I’m not sure if I like the new design   Neutral\n",
      "3  High quality pants. Very comfortable and great...  Positive\n",
      "4  Very frustrated right now. Instagram keeps clo...  Negative\n",
      "5  Your customer service is a nightmare! Totally ...  Negative\n",
      "6  I still need to further test Zapier to say if ...   Neutral\n",
      "7  It's so easy to use. It looks less than a week...  Positive\n",
      "8  The mobile app can be really glitchy and is de...  Negative\n",
      "9  I love how Zapier takes different apps and tie...  Positive\n"
     ]
    }
   ],
   "source": [
    "# Get data from a CSV file\n",
    "df_reviews = pd.read_csv('Reviews_for_Analysis.csv')\n",
    "print(df_reviews)"
   ]
  },
  {
   "cell_type": "code",
   "execution_count": 5,
   "metadata": {},
   "outputs": [
    {
     "name": "stdout",
     "output_type": "stream",
     "text": [
      "ORIGINAL: This is an excellent car with great mileage. but it's power could have been better\n",
      "FILTERED: ['excellent', 'car', 'great', 'mileage', 'but', 'power', 'could', 'better']\n",
      "Compound ------------------------------- 0.8294\n",
      "Positive ------------------------------- 0.636\n",
      "Neutral -------------------------------- 0.364\n",
      "Negative ------------------------------- 0.0\n",
      "\n",
      "ORIGINAL: I don't think there is anything I really dislike about the product\n",
      "FILTERED: ['not', 'think', 'anything', 'really', 'dislike', 'product']\n",
      "Compound ------------------------------- -0.4391\n",
      "Positive ------------------------------- 0.0\n",
      "Neutral -------------------------------- 0.633\n",
      "Negative ------------------------------- 0.367\n",
      "\n",
      "ORIGINAL: I’m not sure if I like the new design\n",
      "FILTERED: ['not', 'sure', 'like', 'new', 'design']\n",
      "Compound ------------------------------- -0.4717\n",
      "Positive ------------------------------- 0.0\n",
      "Neutral -------------------------------- 0.424\n",
      "Negative ------------------------------- 0.576\n",
      "\n",
      "ORIGINAL: High quality pants. Very comfortable and great for sport activities. Good price for nice quality! I recommend to all fans of sports\n",
      "FILTERED: ['high', 'quality', 'pant', 'comfortable', 'great', 'sport', 'activity', 'good', 'price', 'nice', 'quality', 'recommend', 'fan', 'sport']\n",
      "Compound ------------------------------- 0.9509\n",
      "Positive ------------------------------- 0.691\n",
      "Neutral -------------------------------- 0.309\n",
      "Negative ------------------------------- 0.0\n",
      "\n",
      "ORIGINAL: Very frustrated right now. Instagram keeps closing when I log in. Can you help?\n",
      "FILTERED: ['frustrated', 'right', 'instagram', 'keep', 'closing', 'log', 'help']\n",
      "Compound ------------------------------- -0.1779\n",
      "Positive ------------------------------- 0.243\n",
      "Neutral -------------------------------- 0.45\n",
      "Negative ------------------------------- 0.306\n",
      "\n",
      "ORIGINAL: Your customer service is a nightmare! Totally useless!!\n",
      "FILTERED: ['customer', 'service', 'nightmare', 'totally', 'useless']\n",
      "Compound ------------------------------- -0.4754\n",
      "Positive ------------------------------- 0.0\n",
      "Neutral -------------------------------- 0.564\n",
      "Negative ------------------------------- 0.436\n",
      "\n",
      "ORIGINAL: I still need to further test Zapier to say if its useful for me or not\n",
      "FILTERED: ['still', 'need', 'test', 'zapier', 'say', 'useful', 'not']\n",
      "Compound ------------------------------- 0.4404\n",
      "Positive ------------------------------- 0.326\n",
      "Neutral -------------------------------- 0.674\n",
      "Negative ------------------------------- 0.0\n",
      "\n",
      "ORIGINAL: It's so easy to use. It looks less than a week to understand where everything is in drift\n",
      "FILTERED: ['easy', 'use', 'look', 'le', 'week', 'understand', 'everything', 'drift']\n",
      "Compound ------------------------------- 0.4404\n",
      "Positive ------------------------------- 0.293\n",
      "Neutral -------------------------------- 0.707\n",
      "Negative ------------------------------- 0.0\n",
      "\n",
      "ORIGINAL: The mobile app can be really glitchy and is definitely not user friendly\n",
      "FILTERED: ['mobile', 'app', 'really', 'glitchy', 'definitely', 'not', 'user', 'friendly']\n",
      "Compound ------------------------------- 0.0901\n",
      "Positive ------------------------------- 0.257\n",
      "Neutral -------------------------------- 0.517\n",
      "Negative ------------------------------- 0.226\n",
      "\n",
      "ORIGINAL: I love how Zapier takes different apps and ties them together. I'm not disappointed with the result.\n",
      "FILTERED: ['love', 'zapier', 'take', 'different', 'apps', 'tie', 'together', 'not', 'disappointed', 'result']\n",
      "Compound ------------------------------- 0.7753\n",
      "Positive ------------------------------- 0.458\n",
      "Neutral -------------------------------- 0.542\n",
      "Negative ------------------------------- 0.0\n",
      "\n"
     ]
    }
   ],
   "source": [
    "for i in df_reviews.index:\n",
    "\n",
    "    print(f\"ORIGINAL: {df_reviews.Review[i]}\")\n",
    "\n",
    "    tokenized_sentences = sent_tokenize(df_reviews.Review[i].lower())\n",
    "\n",
    "    # remove contractions, get only the words\n",
    "    removed_contractions = \" \".join([contractions.fix(word) for word in tokenized_sentences])\n",
    "    tokenizer = RegexpTokenizer(r'\\w+')\n",
    "    tokenized_words = tokenizer.tokenize(removed_contractions)\n",
    "\n",
    "    # lemmatize the words\n",
    "    lemmatizer = WordNetLemmatizer()\n",
    "    lemmatized_words = [lemmatizer.lemmatize(word) for word in tokenized_words]\n",
    "\n",
    "    # remove stop words\n",
    "    stop_words = set(stopwords.words(\"english\")) - set(['not', 'but'])\n",
    "    filtered_list = [\n",
    "        word for word in lemmatized_words if word not in stop_words\n",
    "    ]\n",
    "    print(f\"FILTERED: {filtered_list}\")\n",
    "    \n",
    "    # get polarity of the words\n",
    "    sid = SentimentIntensityAnalyzer()\n",
    "    ss = sid.polarity_scores(\" \".join(filtered_list))\n",
    "\n",
    "    print(f'Compound ------------------------------- {ss[\"compound\"]}')\n",
    "    print(f'Positive ------------------------------- {ss[\"pos\"]}')\n",
    "    print(f'Neutral -------------------------------- {ss[\"neu\"]}')\n",
    "    print(f'Negative ------------------------------- {ss[\"neg\"]}\\n')"
   ]
  }
 ],
 "metadata": {
  "kernelspec": {
   "display_name": "Python 3",
   "language": "python",
   "name": "python3"
  },
  "language_info": {
   "codemirror_mode": {
    "name": "ipython",
    "version": 3
   },
   "file_extension": ".py",
   "mimetype": "text/x-python",
   "name": "python",
   "nbconvert_exporter": "python",
   "pygments_lexer": "ipython3",
   "version": "3.10.7"
  },
  "orig_nbformat": 4,
  "vscode": {
   "interpreter": {
    "hash": "006ceec57082682d3b909e056014cfb3f67146c2ee1293d561029ad71ca64256"
   }
  }
 },
 "nbformat": 4,
 "nbformat_minor": 2
}
