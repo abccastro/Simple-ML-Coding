{
 "cells": [
  {
   "attachments": {},
   "cell_type": "markdown",
   "metadata": {},
   "source": [
    "### Fibonacci Sequence\n",
    "\n",
    "A program that generates the first N fibonacci series numbers using the following methods\n",
    "- with recursion\n",
    "- without recursion\n",
    "\n",
    "It captures the execution time of each subsequent number's generation, and plot each fibonacci series number and time it took to generate the number using matplotlib\n",
    "<br/><br/>\n",
    "Reference: https://www.geeksforgeeks.org/program-for-nth-fibonacci-number/\n",
    "\n",
    "__Submitted By:__ Auradee Castro"
   ]
  },
  {
   "cell_type": "code",
   "execution_count": 1,
   "metadata": {},
   "outputs": [],
   "source": [
    "import time\n",
    "import matplotlib.pyplot as plt\n",
    "import numpy as np\n",
    "import pandas as pd"
   ]
  },
  {
   "cell_type": "code",
   "execution_count": 31,
   "metadata": {},
   "outputs": [
    {
     "name": "stdout",
     "output_type": "stream",
     "text": [
      "N = 40\n"
     ]
    }
   ],
   "source": [
    "# Fibonacci Number\n",
    "n = int(input(\"Enter Fibonacci Number:\")) \n",
    "print(f\"N = {n}\")"
   ]
  },
  {
   "cell_type": "code",
   "execution_count": 13,
   "metadata": {},
   "outputs": [
    {
     "name": "stdout",
     "output_type": "stream",
     "text": [
      "Fibonacci sequence using recursion\n",
      "\n",
      "0................................................. 0 ns\n",
      "1................................................. 0 ns\n",
      "1................................................. 0 ns\n",
      "2................................................. 0 ns\n",
      "3................................................. 0 ns\n",
      "5................................................. 0 ns\n",
      "8................................................. 0 ns\n",
      "13................................................ 0 ns\n",
      "21................................................ 0 ns\n",
      "34................................................ 0 ns\n",
      "55................................................ 0 ns\n",
      "89................................................ 999900 ns\n",
      "144............................................... 999900 ns\n",
      "233............................................... 999900 ns\n",
      "377............................................... 999900 ns\n",
      "610............................................... 999900 ns\n",
      "987............................................... 999900 ns\n",
      "1597.............................................. 999900 ns\n",
      "2584.............................................. 1998900 ns\n",
      "4181.............................................. 3008600 ns\n",
      "6765.............................................. 4201800 ns\n",
      "10946............................................. 7000000 ns\n",
      "17711............................................. 9997600 ns\n",
      "28657............................................. 15996600 ns\n",
      "46368............................................. 27599800 ns\n",
      "75025............................................. 48634800 ns\n",
      "121393............................................ 77681700 ns\n",
      "196418............................................ 142631200 ns\n",
      "317811............................................ 220123900 ns\n",
      "514229............................................ 367696300 ns\n",
      "832040............................................ 611530400 ns\n",
      "1346269........................................... 901342600 ns\n",
      "2178309........................................... 1359002500 ns\n",
      "3524578........................................... 2126015300 ns\n",
      "5702887........................................... 3470631100 ns\n",
      "9227465........................................... 5568996800 ns\n",
      "14930352.......................................... 8767282200 ns\n",
      "24157817.......................................... 14251542400 ns\n",
      "39088169.......................................... 22922929200 ns\n",
      "63245986.......................................... 36985625500 ns\n",
      "102334155......................................... 59693235400 ns\n"
     ]
    }
   ],
   "source": [
    "#  Fibonacci sequence using recursion\n",
    "def fibonacci_r(n):\n",
    "    if n <= 1:\n",
    "        return n\n",
    "    return fibonacci_r(n-1) + fibonacci_r(n-2)\n",
    "\n",
    "print(\"Fibonacci sequence using recursion\\n\")\n",
    "\n",
    "time_arr_r = []\n",
    "time_arr_r.append([-1, round(time.time_ns())])\n",
    "\n",
    "for i in range(n + 1):\n",
    "    num = fibonacci_r(i)\n",
    "    time_ns = round(time.time_ns())\n",
    "    time_arr_r.append([num, time_ns])\n",
    "\n",
    "    print(f\"{str(num).ljust(50, '.')} {time_ns - time_arr_r[0][1]} ns\")"
   ]
  },
  {
   "cell_type": "code",
   "execution_count": 22,
   "metadata": {},
   "outputs": [
    {
     "name": "stdout",
     "output_type": "stream",
     "text": [
      "Fibonacci sequence without recursion\n",
      "\n",
      "0................................................. 0 ns\n",
      "1................................................. 0 ns\n",
      "1................................................. 0 ns\n",
      "2................................................. 0 ns\n",
      "3................................................. 0 ns\n",
      "5................................................. 0 ns\n",
      "8................................................. 0 ns\n",
      "13................................................ 0 ns\n",
      "21................................................ 0 ns\n",
      "34................................................ 0 ns\n",
      "55................................................ 0 ns\n",
      "89................................................ 0 ns\n",
      "144............................................... 0 ns\n",
      "233............................................... 0 ns\n",
      "377............................................... 0 ns\n",
      "610............................................... 0 ns\n",
      "987............................................... 0 ns\n",
      "1597.............................................. 0 ns\n",
      "2584.............................................. 0 ns\n",
      "4181.............................................. 0 ns\n",
      "6765.............................................. 0 ns\n",
      "10946............................................. 0 ns\n",
      "17711............................................. 0 ns\n",
      "28657............................................. 0 ns\n",
      "46368............................................. 0 ns\n",
      "75025............................................. 0 ns\n",
      "121393............................................ 0 ns\n",
      "196418............................................ 0 ns\n",
      "317811............................................ 0 ns\n",
      "514229............................................ 0 ns\n",
      "832040............................................ 991500 ns\n",
      "1346269........................................... 991500 ns\n",
      "2178309........................................... 991500 ns\n",
      "3524578........................................... 991500 ns\n",
      "5702887........................................... 991500 ns\n",
      "9227465........................................... 991500 ns\n",
      "14930352.......................................... 991500 ns\n",
      "24157817.......................................... 991500 ns\n",
      "39088169.......................................... 991500 ns\n",
      "63245986.......................................... 991500 ns\n",
      "102334155......................................... 991500 ns\n"
     ]
    }
   ],
   "source": [
    "# Fibonacci sequence without recursion\n",
    "def fibonacci_wr(n):\n",
    "    f = [0, 1]\n",
    "    for i in range(2, n+1):\n",
    "        f.append(f[i-1] + f[i-2])\n",
    "    return f[n]\n",
    "\n",
    "print(\"Fibonacci sequence without recursion\\n\")\n",
    "\n",
    "time_arr_wr = []\n",
    "time_arr_wr.append([-1, time.time_ns()])\n",
    "\n",
    "for i in range(n + 1):\n",
    "    num = fibonacci_wr(i)\n",
    "    time_ns = time.time_ns()\n",
    "    time_arr_wr.append([num, time_ns])\n",
    "\n",
    "    print(f\"{str(num).ljust(50, '.')} {time_ns - time_arr_wr[0][1]} ns\")"
   ]
  },
  {
   "cell_type": "code",
   "execution_count": 24,
   "metadata": {},
   "outputs": [
    {
     "name": "stdout",
     "output_type": "stream",
     "text": [
      "Fibonacci Numbers\n",
      "[ 0  1  2  3  4  5  6  7  8  9 10 11 12 13 14 15 16 17 18 19 20 21 22 23\n",
      " 24 25 26 27 28 29 30 31 32 33 34 35 36 37 38 39 40]\n"
     ]
    }
   ],
   "source": [
    "# Populate x-values : N numbers of Fibonacci Sequence\n",
    "fib_num_series = pd.Series(np.arange(n + 1))\n",
    "\n",
    "print(\"Fibonacci Numbers\")\n",
    "print(fib_num_series.values)"
   ]
  },
  {
   "cell_type": "code",
   "execution_count": 32,
   "metadata": {},
   "outputs": [
    {
     "name": "stdout",
     "output_type": "stream",
     "text": [
      "Execution time (with recursion)\n",
      "           Time\n",
      "0             0\n",
      "1             0\n",
      "2             0\n",
      "3             0\n",
      "4             0\n",
      "5             0\n",
      "6             0\n",
      "7             0\n",
      "8             0\n",
      "9             0\n",
      "10            0\n",
      "11       999900\n",
      "12       999900\n",
      "13       999900\n",
      "14       999900\n",
      "15       999900\n",
      "16       999900\n",
      "17       999900\n",
      "18      1998900\n",
      "19      3008600\n",
      "20      4201800\n",
      "21      7000000\n",
      "22      9997600\n",
      "23     15996600\n",
      "24     27599800\n",
      "25     48634800\n",
      "26     77681700\n",
      "27    142631200\n",
      "28    220123900\n",
      "29    367696300\n",
      "30    611530400\n",
      "31    901342600\n",
      "32   1359002500\n",
      "33   2126015300\n",
      "34   3470631100\n",
      "35   5568996800\n",
      "36   8767282200\n",
      "37  14251542400\n",
      "38  22922929200\n",
      "39  36985625500\n",
      "40  59693235400\n"
     ]
    }
   ],
   "source": [
    "# Get y-values : execution time (with recursion)\n",
    "time_recur_df = pd.DataFrame([(num[1] - time_arr_r[0][1]) for i, num in enumerate(time_arr_r)], columns = ['Time'])\n",
    "time_recur_df = time_recur_df[1:]\n",
    "time_recur_df.reset_index(drop=True, inplace=True)\n",
    "\n",
    "print(\"Execution time (with recursion)\")\n",
    "print(time_recur_df)"
   ]
  },
  {
   "cell_type": "code",
   "execution_count": 33,
   "metadata": {},
   "outputs": [
    {
     "name": "stdout",
     "output_type": "stream",
     "text": [
      "Execution time (without recursion)\n",
      "      Time\n",
      "0        0\n",
      "1        0\n",
      "2        0\n",
      "3        0\n",
      "4        0\n",
      "5        0\n",
      "6        0\n",
      "7        0\n",
      "8        0\n",
      "9        0\n",
      "10       0\n",
      "11       0\n",
      "12       0\n",
      "13       0\n",
      "14       0\n",
      "15       0\n",
      "16       0\n",
      "17       0\n",
      "18       0\n",
      "19       0\n",
      "20       0\n",
      "21       0\n",
      "22       0\n",
      "23       0\n",
      "24       0\n",
      "25       0\n",
      "26       0\n",
      "27       0\n",
      "28       0\n",
      "29       0\n",
      "30  991500\n",
      "31  991500\n",
      "32  991500\n",
      "33  991500\n",
      "34  991500\n",
      "35  991500\n",
      "36  991500\n",
      "37  991500\n",
      "38  991500\n",
      "39  991500\n",
      "40  991500\n"
     ]
    }
   ],
   "source": [
    "# Get y-values : execution time (with recursion)\n",
    "time_wo_recur_df = pd.DataFrame([(num[1] - time_arr_wr[0][1]) for i, num in enumerate(time_arr_wr)], columns = ['Time'])\n",
    "time_wo_recur_df = time_wo_recur_df[1:]\n",
    "time_wo_recur_df.reset_index(drop=True, inplace=True)\n",
    "\n",
    "print(\"Execution time (without recursion)\")\n",
    "print(time_wo_recur_df)"
   ]
  },
  {
   "cell_type": "code",
   "execution_count": 34,
   "metadata": {},
   "outputs": [
    {
     "data": {
      "text/plain": [
       "<matplotlib.legend.Legend at 0x18c29427f40>"
      ]
     },
     "execution_count": 34,
     "metadata": {},
     "output_type": "execute_result"
    },
    {
     "data": {
      "image/png": "[encoded data removed]",
      "text/plain": [
       "<Figure size 1000x500 with 1 Axes>"
      ]
     },
     "metadata": {},
     "output_type": "display_data"
    }
   ],
   "source": [
    "plt.figure(figsize=(10, 5), layout=\"constrained\")\n",
    "plt.plot(fib_num_series, time_recur_df, label=\"with recursion\")\n",
    "plt.plot(fib_num_series, time_wo_recur_df, label=\"without recursion\")\n",
    "plt.xlabel(\"Fibonacci Sequence Number\")\n",
    "plt.ylabel(\"Time (nanoseconds)\")\n",
    "plt.title(\"Execution Time for each Fibonacci Sequence Number\")\n",
    "plt.legend()"
   ]
  },
  {
   "attachments": {},
   "cell_type": "markdown",
   "metadata": {},
   "source": [
    "### Explanation\n",
    "\n",
    "The time it takes to finish the Fibonacci Sequence with recursion has increased exponentially as compared to the conventional for-loop, which only iterates N-2 times to complete the computation for each sequence number. Recursion consumes significantly more memory as F(N) increases since it calls the same function 2^N times. Furthermore, previously computed values are temporarily cached in memory until the computation is completed. As a result, using recursion to calculate the Fibonacci Sequence is not efficient for both time and memory."
   ]
  }
 ],
 "metadata": {
  "kernelspec": {
   "display_name": "Python 3",
   "language": "python",
   "name": "python3"
  },
  "language_info": {
   "codemirror_mode": {
    "name": "ipython",
    "version": 3
   },
   "file_extension": ".py",
   "mimetype": "text/x-python",
   "name": "python",
   "nbconvert_exporter": "python",
   "pygments_lexer": "ipython3",
   "version": "3.10.7"
  },
  "orig_nbformat": 4,
  "vscode": {
   "interpreter": {
    "hash": "006ceec57082682d3b909e056014cfb3f67146c2ee1293d561029ad71ca64256"
   }
  }
 },
 "nbformat": 4,
 "nbformat_minor": 2
}
